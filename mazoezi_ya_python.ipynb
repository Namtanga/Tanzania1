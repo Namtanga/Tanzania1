{
 "cells": [
  {
   "cell_type": "code",
   "execution_count": 1,
   "id": "c3554d5f-6e1d-47b4-a7d8-2a51c4923f22",
   "metadata": {},
   "outputs": [
    {
     "name": "stdout",
     "output_type": "stream",
     "text": [
      "3\n"
     ]
    }
   ],
   "source": [
    "x=1 +2\n",
    "print(x)"
   ]
  },
  {
   "cell_type": "code",
   "execution_count": 4,
   "id": "20fbae3a-477f-4a44-bcb2-7d388a1fc30d",
   "metadata": {},
   "outputs": [
    {
     "name": "stdout",
     "output_type": "stream",
     "text": [
      "You can not divide by zero\n"
     ]
    }
   ],
   "source": [
    "try:\n",
    "    x=10/0 #this is not error\n",
    "    print(x)\n",
    "except ZeroDivisionError: \n",
    "    print(\"You can not divide by zero\")\n",
    "    "
   ]
  },
  {
   "cell_type": "code",
   "execution_count": 14,
   "id": "4f832026-2ade-4c01-b438-f5f96327b6e5",
   "metadata": {},
   "outputs": [
    {
     "name": "stdin",
     "output_type": "stream",
     "text": [
      "Enter a Number: t\n"
     ]
    },
    {
     "name": "stdout",
     "output_type": "stream",
     "text": [
      "this is not a valid number\n"
     ]
    }
   ],
   "source": [
    "try: \n",
    "    x= int(input(\"Enter a Number:\"))\n",
    "except ValueError:\n",
    "    print(\"this is not a valid number\")"
   ]
  },
  {
   "cell_type": "markdown",
   "id": "d81c8b5d-fbe7-4049-b6fe-ac4078a914f2",
   "metadata": {},
   "source": [
    "Catching multiple errors\n",
    "try:\n",
    "  b=100/a\n",
    "  print(b)\n"
   ]
  },
  {
   "cell_type": "code",
   "execution_count": 24,
   "id": "c24ff158-0053-420b-8eb8-0958a07566b4",
   "metadata": {},
   "outputs": [
    {
     "name": "stdin",
     "output_type": "stream",
     "text": [
      "Enter a number 0\n"
     ]
    },
    {
     "name": "stdout",
     "output_type": "stream",
     "text": [
      "you can not divide by zero\n"
     ]
    }
   ],
   "source": [
    "#Catching multiple errors\n",
    "try:\n",
    "    a=int(input(\"Enter a number\"))\n",
    "    b=100/a\n",
    "    print(b)\n",
    "except ValueError:\n",
    "    print(\"this is not a valid number\")\n",
    "except ZeroDivisionError:\n",
    "    print(\"you can not divide by zero\")\n",
    "\n"
   ]
  },
  {
   "cell_type": "code",
   "execution_count": 29,
   "id": "a91c011b-5e4a-404d-8dee-2cf84c7a03dd",
   "metadata": {},
   "outputs": [
    {
     "name": "stdout",
     "output_type": "stream",
     "text": [
      "File Not Found\n",
      "closing file\n"
     ]
    }
   ],
   "source": [
    "#finally\n",
    "try:\n",
    "    file=open(\"example.xlsx\", \"r\")\n",
    "    content=file.read()\n",
    "except FileNotFoundError:\n",
    "     print(\"File Not Found\")\n",
    "finally:\n",
    "     print(\"closing file\")"
   ]
  },
  {
   "cell_type": "code",
   "execution_count": null,
   "id": "a3c9f95c-8d93-474f-90de-fa3df7197fb5",
   "metadata": {},
   "outputs": [],
   "source": []
  }
 ],
 "metadata": {
  "kernelspec": {
   "display_name": "Python 3 (ipykernel)",
   "language": "python",
   "name": "python3"
  },
  "language_info": {
   "codemirror_mode": {
    "name": "ipython",
    "version": 3
   },
   "file_extension": ".py",
   "mimetype": "text/x-python",
   "name": "python",
   "nbconvert_exporter": "python",
   "pygments_lexer": "ipython3",
   "version": "3.12.2"
  }
 },
 "nbformat": 4,
 "nbformat_minor": 5
}
